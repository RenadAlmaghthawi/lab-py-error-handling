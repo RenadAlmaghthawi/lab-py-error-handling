{
  "cells": [
    {
      "cell_type": "markdown",
      "metadata": {
        "id": "OtREtFNNpf98"
      },
      "source": [
        "# LAB | Error Handling in Python\n",
        "\n",
        "## Overview\n",
        "This exercise notebook will help you practice error handling in Python using exceptions. You will write programs that handle various types of exceptions to ensure your code runs smoothly and handles errors gracefully."
      ]
    },
    {
      "cell_type": "markdown",
      "metadata": {
        "id": "Hm6d_78ppf9-"
      },
      "source": [
        "### Exercise 1: Handle ZeroDivisionError\n",
        "Write a Python program to handle a `ZeroDivisionError` exception when dividing a number by zero.\n"
      ]
    },
    {
      "cell_type": "code",
      "execution_count": null,
      "metadata": {
        "id": "LZ6vp7rDpf9_"
      },
      "outputs": [],
      "source": [
        "# Your code here\n",
        "try:\n",
        "    result = 10 / 0\n",
        "except ZeroDivisionError:\n",
        "    print(\"Error: Division by zero is not allowed.\")"
      ]
    },
    {
      "cell_type": "markdown",
      "metadata": {
        "id": "Af05KKvLpf-A"
      },
      "source": [
        "\n",
        "### Exercise 2: Raise ValueError for Invalid Input\n",
        "Write a Python program that prompts the user to input an integer and raises a `ValueError` exception if the input is not a valid integer.\n",
        "\n"
      ]
    },
    {
      "cell_type": "code",
      "execution_count": null,
      "metadata": {
        "id": "0VC7Rcdmpf-A"
      },
      "outputs": [],
      "source": [
        "# Your code here\n",
        "try:\n",
        "    user_input = input(\"Enter an integer: \")\n",
        "    user_integer = int(user_input)\n",
        "except ValueError:\n",
        "    print(\"Error: Invalid input. Please enter a valid integer.\")"
      ]
    },
    {
      "cell_type": "markdown",
      "metadata": {
        "id": "BG1ii-vvpf-B"
      },
      "source": [
        "\n",
        "\n",
        "### Exercise 3: Handle FileNotFoundError\n",
        "Write a Python program that opens a file and handles a `FileNotFoundError` exception if the file does not exist.\n",
        "\n"
      ]
    },
    {
      "cell_type": "code",
      "execution_count": null,
      "metadata": {
        "id": "YIPwFcR0pf-B"
      },
      "outputs": [],
      "source": [
        "# Your code here\n",
        "try:\n",
        "    with open(\"non_existent_file.txt\", \"r\") as file:\n",
        "        content = file.read()\n",
        "except FileNotFoundError:\n",
        "    print(\"Error: The specified file does not exist.\")"
      ]
    },
    {
      "cell_type": "markdown",
      "metadata": {
        "id": "d1oi52J-pf-B"
      },
      "source": [
        "\n",
        "\n",
        "### Exercise 4: Raise TypeError for Non-Numerical Input\n",
        "Write a Python program that prompts the user to input two numbers and raises a `TypeError` exception if the inputs are not numerical.\n",
        "\n"
      ]
    },
    {
      "cell_type": "code",
      "execution_count": null,
      "metadata": {
        "id": "KYFnsJvXpf-B"
      },
      "outputs": [],
      "source": [
        "# Your code here\n",
        "try:\n",
        "    num1 = input(\"Enter the first number: \")\n",
        "    num2 = input(\"Enter the second number: \")\n",
        "    result = float(num1) + float(num2)\n",
        "    print(\"Result:\", result)\n",
        "except TypeError:\n",
        "    print(\"Error: Both inputs must be numerical.\")"
      ]
    },
    {
      "cell_type": "markdown",
      "metadata": {
        "id": "Tunw34Mepf-C"
      },
      "source": [
        "\n",
        "\n",
        "### Exercise 5: Handle PermissionError\n",
        "Write a Python program that opens a file and handles a `PermissionError` exception if there is a permission issue.\n",
        "\n",
        "\n"
      ]
    },
    {
      "cell_type": "code",
      "execution_count": null,
      "metadata": {
        "id": "6Ha8hz7mpf-C"
      },
      "outputs": [],
      "source": [
        "# Your code here\n",
        "try:\n",
        "    with open(\"example.txt\", \"r\") as file:\n",
        "        content = file.read()\n",
        "except PermissionError:\n",
        "    print(\"Error: Permission denied to access the file.\")"
      ]
    },
    {
      "cell_type": "markdown",
      "metadata": {
        "id": "zSceQIIepf-C"
      },
      "source": [
        "\n",
        "\n",
        "### Exercise 6: Handle IndexError in List Operations\n",
        "Write a Python program that executes an operation on a list and handles an `IndexError` exception if the index is out of range.\n",
        "\n",
        "\n"
      ]
    },
    {
      "cell_type": "code",
      "execution_count": null,
      "metadata": {
        "id": "tVV_NbAxpf-C"
      },
      "outputs": [],
      "source": [
        "# Your code here\n",
        "try:\n",
        "    my_list = [1, 2, 3]\n",
        "    print(my_list[3])\n",
        "except IndexError:\n",
        "    print(\"Error: Index out of range.\")"
      ]
    },
    {
      "cell_type": "markdown",
      "metadata": {
        "id": "9IuazWHnpf-D"
      },
      "source": [
        "\n",
        "\n",
        "### Exercise 7: Handle KeyboardInterrupt Exception\n",
        "Write a Python program that prompts the user to input a number and handles a `KeyboardInterrupt` exception if the user cancels the input.\n",
        "\n"
      ]
    },
    {
      "cell_type": "code",
      "execution_count": null,
      "metadata": {
        "id": "sAlnwv0mpf-D"
      },
      "outputs": [],
      "source": [
        "# Your code here\n",
        "try:\n",
        "    user_input = input(\"Enter a number: \")\n",
        "    print(\"You entered:\", user_input)\n",
        "except KeyboardInterrupt:\n",
        "    print(\"Input canceled by the user.\")"
      ]
    },
    {
      "cell_type": "markdown",
      "metadata": {
        "id": "HMc8jr-2pf-D"
      },
      "source": [
        "\n",
        "\n",
        "### Exercise 8: Handle ArithmeticError\n",
        "Write a Python program that executes division and handles an `ArithmeticError` exception if there is an arithmetic error.\n",
        "\n"
      ]
    },
    {
      "cell_type": "code",
      "execution_count": null,
      "metadata": {
        "id": "GXlDUOUIpf-D"
      },
      "outputs": [],
      "source": [
        "# Your code here\n",
        "try:\n",
        "    result = 10 / 0\n",
        "except ArithmeticError:\n",
        "    print(\"Error: Arithmetic error occurred.\")"
      ]
    },
    {
      "cell_type": "markdown",
      "metadata": {
        "id": "9JFMlb4qpf-D"
      },
      "source": [
        "\n",
        "\n",
        "### Exercise 9: Handle UnicodeDecodeError\n",
        "Write a Python program that opens a file and handles a `UnicodeDecodeError` exception if there is an encoding issue.\n",
        "\n"
      ]
    },
    {
      "cell_type": "code",
      "execution_count": null,
      "metadata": {
        "id": "u-VJglnZpf-D"
      },
      "outputs": [],
      "source": [
        "# Your code here\n",
        "try:\n",
        "    with open(\"example.txt\", \"r\", encoding=\"utf-8\") as file:\n",
        "        content = file.read()\n",
        "except UnicodeDecodeError:\n",
        "    print(\"Error: Encoding issue while reading the file.\")"
      ]
    },
    {
      "cell_type": "markdown",
      "metadata": {
        "id": "Ds0Aru9rpf-D"
      },
      "source": [
        "\n",
        "\n",
        "### Exercise 10: Handle AttributeError\n",
        "Write a Python program that executes an operation on an object and handles an `AttributeError` exception if the attribute does not exist.\n",
        "\n"
      ]
    },
    {
      "cell_type": "code",
      "execution_count": null,
      "metadata": {
        "id": "1pjWixfPpf-D"
      },
      "outputs": [],
      "source": [
        "# Your code here\n",
        "class MyClass:\n",
        "    def __init__(self, value):\n",
        "        self.value = value\n",
        "\n",
        "try:\n",
        "    obj = MyClass(10)\n",
        "    print(obj.non_existent_attribute)\n",
        "except AttributeError:\n",
        "    print(\"Error: Attribute does not exist.\")"
      ]
    },
    {
      "cell_type": "markdown",
      "metadata": {
        "id": "6ZxoIp1Epf-E"
      },
      "source": [
        "\n",
        "\n",
        "## Bonus Exercises\n",
        "\n",
        "### Bonus Exercise 1: Handle Multiple Exceptions\n",
        "Write a Python program that demonstrates handling multiple exceptions in one block.\n",
        "\n",
        "\n"
      ]
    },
    {
      "cell_type": "code",
      "execution_count": null,
      "metadata": {
        "id": "8aW5jB8vpf-E"
      },
      "outputs": [],
      "source": [
        "# Your code here\n",
        "try:\n",
        "    result = 10 / 0\n",
        "    my_list = [1, 2, 3]\n",
        "    print(my_list[3])\n",
        "except (ZeroDivisionError, IndexError) as e:\n",
        "    print(\"Error:\", e)"
      ]
    },
    {
      "cell_type": "markdown",
      "metadata": {
        "id": "VMpsz1Fypf-E"
      },
      "source": [
        "\n",
        "\n",
        "### Bonus Exercise 2: Create Custom Exception\n",
        "Create a custom exception class and raise it in your code when certain conditions are met.\n",
        "\n",
        "\n"
      ]
    },
    {
      "cell_type": "code",
      "execution_count": null,
      "metadata": {
        "id": "L7NGHBT0pf-E"
      },
      "outputs": [],
      "source": [
        "# Your code here\n",
        "class CustomError(Exception):\n",
        "    def __init__(self, message):\n",
        "        self.message = message\n",
        "\n",
        "try:\n",
        "    raise CustomError(\"This is a custom error.\")\n",
        "except CustomError as e:\n",
        "    print(\"Custom Error:\", e.message)\n"
      ]
    },
    {
      "cell_type": "markdown",
      "metadata": {
        "id": "7ptKu0eWpf-E"
      },
      "source": [
        "\n",
        "\n",
        "### Bonus Exercise 3: Validate User Input with Exception Handling\n",
        "Write a program that repeatedly prompts the user for valid input until they provide it, using exception handling to manage invalid inputs.\n",
        "\n"
      ]
    },
    {
      "cell_type": "code",
      "execution_count": null,
      "metadata": {
        "id": "PPyD771zpf-E"
      },
      "outputs": [],
      "source": [
        "# Your code here\n",
        "while True:\n",
        "    try:\n",
        "        user_input = input(\"Enter a valid integer: \")\n",
        "        user_integer = int(user_input)\n",
        "        break\n",
        "    except ValueError:\n",
        "        print(\"Invalid input. Please enter a valid integer.\")"
      ]
    },
    {
      "cell_type": "markdown",
      "metadata": {
        "id": "y7f30sLSpf-E"
      },
      "source": [
        "\n",
        "\n",
        "### Bonus Exercise 4: Log Errors to File\n",
        "Modify your error handling to log errors to a text file instead of printing them to the console.\n",
        "\n"
      ]
    },
    {
      "cell_type": "code",
      "execution_count": null,
      "metadata": {
        "id": "63Mrq5vcpf-E"
      },
      "outputs": [],
      "source": [
        "# Your code here\n",
        "import logging\n",
        "\n",
        "logging.basicConfig(filename=\"errors.log\", level=logging.ERROR)\n",
        "\n",
        "try:\n",
        "    result = 10 / 0\n",
        "except Exception as e:\n",
        "    logging.error(f\"An error occurred: {e}\")"
      ]
    },
    {
      "cell_type": "markdown",
      "metadata": {
        "id": "JBhBPiOFpf-E"
      },
      "source": [
        "\n",
        "\n",
        "### Bonus Exercise 5: Retry Logic on Exception\n",
        "Implement retry logic for operations that could fail, allowing users to try again after encountering an error.\n",
        "\n"
      ]
    },
    {
      "cell_type": "code",
      "execution_count": null,
      "metadata": {
        "id": "qDyQZMeUpf-F"
      },
      "outputs": [],
      "source": [
        "# Your code here\n",
        "import time\n",
        "\n",
        "def divide(a, b):\n",
        "    try:\n",
        "        result = a / b\n",
        "        return result\n",
        "    except ZeroDivisionError:\n",
        "        print(\"Error: Division by zero. Retrying...\")\n",
        "        time.sleep(2)"
      ]
    }
  ],
  "metadata": {
    "kernelspec": {
      "display_name": ".venv",
      "language": "python",
      "name": "python3"
    },
    "language_info": {
      "codemirror_mode": {
        "name": "ipython",
        "version": 3
      },
      "file_extension": ".py",
      "mimetype": "text/x-python",
      "name": "python",
      "nbconvert_exporter": "python",
      "pygments_lexer": "ipython3",
      "version": "3.8.0"
    },
    "colab": {
      "provenance": []
    }
  },
  "nbformat": 4,
  "nbformat_minor": 0
}